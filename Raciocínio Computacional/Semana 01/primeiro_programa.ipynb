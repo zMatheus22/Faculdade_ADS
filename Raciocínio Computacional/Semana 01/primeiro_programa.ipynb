{
 "cells": [
  {
   "cell_type": "markdown",
   "metadata": {},
   "source": [
    "# Realizando operações simples em um notebook do python"
   ]
  },
  {
   "cell_type": "code",
   "execution_count": 1,
   "metadata": {},
   "outputs": [
    {
     "data": {
      "text/plain": [
       "5"
      ]
     },
     "execution_count": 1,
     "metadata": {},
     "output_type": "execute_result"
    }
   ],
   "source": [
    "2+3"
   ]
  },
  {
   "cell_type": "code",
   "execution_count": 2,
   "metadata": {},
   "outputs": [
    {
     "data": {
      "text/plain": [
       "15.629999999999999"
      ]
     },
     "execution_count": 2,
     "metadata": {},
     "output_type": "execute_result"
    }
   ],
   "source": [
    "3 * 5.21"
   ]
  },
  {
   "cell_type": "code",
   "execution_count": 3,
   "metadata": {},
   "outputs": [
    {
     "data": {
      "text/plain": [
       "'batatamaçã'"
      ]
     },
     "execution_count": 3,
     "metadata": {},
     "output_type": "execute_result"
    }
   ],
   "source": [
    "\"batata\" + \"maçã\""
   ]
  },
  {
   "cell_type": "code",
   "execution_count": 4,
   "metadata": {},
   "outputs": [
    {
     "data": {
      "text/plain": [
       "5"
      ]
     },
     "execution_count": 4,
     "metadata": {},
     "output_type": "execute_result"
    }
   ],
   "source": [
    "primeiro_valor = 3\n",
    "segundo_valor = 2\n",
    "\n",
    "soma = primeiro_valor + segundo_valor\n",
    "soma"
   ]
  },
  {
   "cell_type": "code",
   "execution_count": 5,
   "metadata": {},
   "outputs": [
    {
     "data": {
      "text/plain": [
       "7"
      ]
     },
     "execution_count": 5,
     "metadata": {},
     "output_type": "execute_result"
    }
   ],
   "source": [
    "primeiro_valor = 3\n",
    "segundo_valor = int(input(\"Digite o segundo valor: \"))\n",
    "\n",
    "soma = primeiro_valor + segundo_valor\n",
    "soma"
   ]
  },
  {
   "cell_type": "code",
   "execution_count": 7,
   "metadata": {},
   "outputs": [],
   "source": [
    "primeiro_valor = float(input(\"Digite o primeiro valor: \"))\n",
    "segundo_valor = float(input(\"Digite o segundo valor: \"))\n",
    "\n",
    "\n",
    "soma = primeiro_valor + segundo_valor\n",
    "subtracao = primeiro_valor - segundo_valor\n",
    "multiplicacao = primeiro_valor * segundo_valor\n",
    "divisao = primeiro_valor / segundo_valor\n",
    "resto = primeiro_valor % segundo_valor"
   ]
  },
  {
   "cell_type": "markdown",
   "metadata": {},
   "source": [
    "## Formatação da saída"
   ]
  },
  {
   "cell_type": "code",
   "execution_count": 10,
   "metadata": {},
   "outputs": [
    {
     "name": "stdout",
     "output_type": "stream",
     "text": [
      "Olá! Seja bem-vindo.\n",
      "O primeiro valor digitado é 3.0\n",
      "3.0 foi o primeiro valor digitado.\n",
      "Veja que 4.0 foi o segundo valor digitado.\n",
      "O resultado da soma é 7.0, e da subtração é -1.0.\n",
      "O resultado da multiplicação é 12.0.\n",
      "0.75\n",
      "Resto: 3.0\n"
     ]
    }
   ],
   "source": [
    "print(\"Olá! Seja bem-vindo.\")\n",
    "print(\"O primeiro valor digitado é\", primeiro_valor)\n",
    "print(primeiro_valor, \"foi o primeiro valor digitado.\")\n",
    "print(\"Veja que\", segundo_valor, \"foi o segundo valor digitado.\")\n",
    "print(f\"O resultado da soma é {soma}, e da subtração é {subtracao}.\")\n",
    "print(\"O resultado da multiplicação é \" + str(multiplicacao) + \".\")\n",
    "print(divisao)\n",
    "print(\"Resto: \" + str(resto))"
   ]
  },
  {
   "cell_type": "code",
   "execution_count": 11,
   "metadata": {},
   "outputs": [
    {
     "name": "stdout",
     "output_type": "stream",
     "text": [
      "0.8571428571428571\n"
     ]
    }
   ],
   "source": [
    "num = 6/7\n",
    "\n",
    "print(num)"
   ]
  },
  {
   "cell_type": "code",
   "execution_count": 12,
   "metadata": {},
   "outputs": [
    {
     "name": "stdout",
     "output_type": "stream",
     "text": [
      "Resultado: 0.857143\n",
      "Resultado: 0.86\n",
      "Resultado:     0.86\n",
      "Resultado: 0\n",
      "Resultado: 0.8571428571428571\n"
     ]
    }
   ],
   "source": [
    "num = 6/7\n",
    "\n",
    "print('Resultado: %f' % num)\n",
    "print('Resultado: %.2f' % num)\n",
    "print('Resultado: %8.2f' % num)\n",
    "print('Resultado: %d' % num)\n",
    "print('Resultado: %s' % num)"
   ]
  },
  {
   "cell_type": "code",
   "execution_count": 13,
   "metadata": {},
   "outputs": [
    {
     "name": "stdout",
     "output_type": "stream",
     "text": [
      "Resultado: 0.857143\n",
      "Resultado: 0.86\n",
      "Resultado:     0.86\n",
      "Resultado:       10\n",
      "Hello     World     \n",
      "  Hello     World   \n",
      "     Hello     World\n"
     ]
    }
   ],
   "source": [
    "num = 6/7\n",
    "outro_num = 10\n",
    "t1 = \"Hello\"\n",
    "t2 = \"World\"\n",
    " \n",
    "print(f'Resultado: {num:f}')\n",
    "print(f'Resultado: {num:.2f}')\n",
    "print(f'Resultado: {num:8.2f}')\n",
    "print(f'Resultado: {outro_num:8d}')\n",
    "print(f'{t1:10}{t2:10}')\n",
    "print(f'{t1:^10}{t2:^10}')\n",
    "print(f'{t1:>10}{t2:>10}')"
   ]
  },
  {
   "cell_type": "code",
   "execution_count": 14,
   "metadata": {},
   "outputs": [
    {
     "name": "stdout",
     "output_type": "stream",
     "text": [
      "Resultado: 0.857143\n",
      "Resultado: 0.86\n",
      "Resultado:     0.86\n",
      "Resultado:       10\n",
      "Hello     World     \n",
      "  Hello     World   \n",
      "     Hello     World\n"
     ]
    }
   ],
   "source": [
    "num = 6/7\n",
    "outro_num = 10\n",
    "t1 = \"Hello\"\n",
    "t2 = \"World\"\n",
    "\n",
    "print('Resultado: {0:f}'.format(num))\n",
    "print('Resultado: {0:.2f}'.format(num))\n",
    "print('Resultado: {0:8.2f}'.format(num))\n",
    "print('Resultado: {0:8d}'.format(outro_num))\n",
    "print('{0:10}{1:10}'.format(t1, t2))\n",
    "print('{0:^10}{1:^10}'.format(t1, t2))\n",
    "print('{0:>10}{1:>10}'.format(t1, t2))"
   ]
  },
  {
   "cell_type": "markdown",
   "metadata": {},
   "source": [
    "## Comentário em Python"
   ]
  },
  {
   "cell_type": "code",
   "execution_count": null,
   "metadata": {},
   "outputs": [],
   "source": [
    "# Tudo que vem antes desta linha é desconsiderado pelo interpretador Python\n",
    "print(\"Teste\") # O mesmo ocorre na sequência desta linha"
   ]
  },
  {
   "cell_type": "code",
   "execution_count": null,
   "metadata": {},
   "outputs": [],
   "source": [
    "'''\n",
    "Este arquivo Python resolve um problema computacional.\n",
    "Arquivo criado em 18/10/2020.\n",
    "Última alteração: 28/10/2020.\n",
    "'''"
   ]
  }
 ],
 "metadata": {
  "kernelspec": {
   "display_name": "Python 3",
   "language": "python",
   "name": "python3"
  },
  "language_info": {
   "codemirror_mode": {
    "name": "ipython",
    "version": 3
   },
   "file_extension": ".py",
   "mimetype": "text/x-python",
   "name": "python",
   "nbconvert_exporter": "python",
   "pygments_lexer": "ipython3",
   "version": "3.10.13"
  }
 },
 "nbformat": 4,
 "nbformat_minor": 2
}
