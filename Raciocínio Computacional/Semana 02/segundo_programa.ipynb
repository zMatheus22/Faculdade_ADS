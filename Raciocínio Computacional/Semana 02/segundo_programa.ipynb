{
 "cells": [
  {
   "cell_type": "markdown",
   "metadata": {},
   "source": [
    "# Identificador de par ou ímpar"
   ]
  },
  {
   "cell_type": "code",
   "execution_count": 1,
   "metadata": {},
   "outputs": [
    {
     "name": "stdout",
     "output_type": "stream",
     "text": [
      "O valor 4 é par.\n"
     ]
    }
   ],
   "source": [
    "# Recebe um número do usuário\n",
    "numero = int(input(\"Digite um número inteiro: \"))\n",
    "\n",
    "# Verifica se o número é par\n",
    "if numero % 2 == 0:\n",
    "    print(f\"O valor {numero} é par.\")"
   ]
  },
  {
   "cell_type": "markdown",
   "metadata": {},
   "source": [
    "## Questão/Exemplo de IF\n",
    "\n",
    "Elabore um programa que solicite ao usuário as notas de determinada disciplina escolar e calcule a média. Se a média for maior ou igual a 7, deve mostrar que o estudante foi aprovado."
   ]
  },
  {
   "cell_type": "code",
   "execution_count": 2,
   "metadata": {},
   "outputs": [
    {
     "name": "stdout",
     "output_type": "stream",
     "text": [
      "O estudante foi aprovado.\n",
      "Ainda estamos dentro do if.\n",
      "A média do estudante é: 7.50\n"
     ]
    }
   ],
   "source": [
    "# Solicita as notas do usuário\n",
    "nota1 = float(input(\"Digite a primeira nota: \"))\n",
    "nota2 = float(input(\"Digite a segunda nota: \"))\n",
    "nota3 = float(input(\"Digite a terceira nota: \"))\n",
    "nota4 = float(input(\"Digite a quarta nota: \"))\n",
    "\n",
    "# Calcula a média das notas\n",
    "media = (nota1 + nota2 + nota3 + nota4) / 4\n",
    "\n",
    "# Verifica se o estudante foi aprovado\n",
    "if media >= 7:\n",
    "    print(\"O estudante foi aprovado.\")\n",
    "    print(\"Ainda estamos dentro do if.\")\n",
    "\n",
    "# Exibe a média\n",
    "print(f\"A média do estudante é: {media:.2f}\")"
   ]
  },
  {
   "cell_type": "markdown",
   "metadata": {},
   "source": [
    "#### Elabore um programa que solicite ao usuário seu ano de nascimento e calcule sua idade. Para ser mais assertivo, também deve perguntar se o usuário já fez aniversário neste ano e analisar a influência dessa informação no cálculo da idade."
   ]
  },
  {
   "cell_type": "code",
   "execution_count": 5,
   "metadata": {},
   "outputs": [
    {
     "name": "stdout",
     "output_type": "stream",
     "text": [
      "Sua idade é 22\n"
     ]
    }
   ],
   "source": [
    "ano_atual = 2024\n",
    "nascimento = int(input(\"Qual é o seu ano de nascimento? \"))\n",
    "idade = ano_atual - nascimento\n",
    "resp = input(\"Você já fez aniversário neste ano? \")\n",
    "\n",
    "if resp == \"Não\":\n",
    "    idade -= 1\n",
    "\n",
    "print(\"Sua idade é\", idade)"
   ]
  },
  {
   "cell_type": "markdown",
   "metadata": {},
   "source": [
    "#### Elabore um programa que solicite ao usuário as notas de determinada disciplina escolar e calcule a média. Se a média for maior ou igual a 7, deve mostrar que o estudante foi aprovado. Caso contrário (isto é, se a nota for menor do que 7), mostre uma mensagem ao estudante informando-o que foi reprovado."
   ]
  },
  {
   "cell_type": "code",
   "execution_count": 2,
   "metadata": {},
   "outputs": [
    {
     "name": "stdout",
     "output_type": "stream",
     "text": [
      "O estudante foi reprovado.\n",
      "A média do estudante é: 5.75\n"
     ]
    }
   ],
   "source": [
    "# Solicita as notas do usuário\n",
    "nota1 = float(input(\"Digite a primeira nota: \"))\n",
    "nota2 = float(input(\"Digite a segunda nota: \"))\n",
    "nota3 = float(input(\"Digite a terceira nota: \"))\n",
    "nota4 = float(input(\"Digite a quarta nota: \"))\n",
    "\n",
    "# Calcula a média das notas\n",
    "media = (nota1 + nota2 + nota3 + nota4) / 4\n",
    "\n",
    "# Verifica se o estudante foi aprovado\n",
    "if media >= 7:\n",
    "    print(\"O estudante foi aprovado.\")\n",
    "    print(\"Ainda estamos dentro do if.\")\n",
    "else:\n",
    "    print(\"O estudante foi reprovado.\")\n",
    "\n",
    "# Exibe a média\n",
    "print(f\"A média do estudante é: {media:.2f}\")"
   ]
  },
  {
   "cell_type": "markdown",
   "metadata": {},
   "source": [
    "### Elabore um programa que solicite três números diferentes ao usuário e informe qual deles é o menor."
   ]
  },
  {
   "cell_type": "markdown",
   "metadata": {},
   "source": [
    "#### 1° Opção de desenvolvimento"
   ]
  },
  {
   "cell_type": "code",
   "execution_count": 1,
   "metadata": {},
   "outputs": [
    {
     "name": "stdout",
     "output_type": "stream",
     "text": [
      "Por favor, insira três números diferentes:\n",
      "O menor número é: 1.0\n"
     ]
    }
   ],
   "source": [
    "print(\"Por favor, insira três números diferentes:\")\n",
    "num1 = float(input(\"Digite o primeiro número: \"))\n",
    "num2 = float(input(\"Digite o segundo número: \"))\n",
    "num3 = float(input(\"Digite o terceiro número: \"))\n",
    "\n",
    "# Verificando se os números são diferentes\n",
    "if num1 == num2:\n",
    "    print(\"Os números inseridos não são diferentes.\")\n",
    "else:\n",
    "    if num1 == num3:\n",
    "        print(\"Os números inseridos não são diferentes.\")\n",
    "    else:\n",
    "        if num2 == num3:\n",
    "            print(\"Os números inseridos não são diferentes.\")\n",
    "        else:\n",
    "            menor = num1\n",
    "            if num2 < menor:\n",
    "                menor = num2\n",
    "            if num3 < menor:\n",
    "                menor = num3\n",
    "\n",
    "            print(f\"O menor número é: {menor}\")"
   ]
  },
  {
   "cell_type": "markdown",
   "metadata": {},
   "source": [
    "#### 2° Opção de desenvolver, utilizando o elif"
   ]
  },
  {
   "cell_type": "code",
   "execution_count": 2,
   "metadata": {},
   "outputs": [
    {
     "name": "stdout",
     "output_type": "stream",
     "text": [
      "Por favor, insira três números diferentes:\n",
      "O menor número é: 4.0\n"
     ]
    }
   ],
   "source": [
    "print(\"Por favor, insira três números diferentes:\")\n",
    "num1 = float(input(\"Digite o primeiro número: \"))\n",
    "num2 = float(input(\"Digite o segundo número: \"))\n",
    "num3 = float(input(\"Digite o terceiro número: \"))\n",
    "\n",
    "if num1 == num2:\n",
    "    print(\"Os números inseridos não são diferentes.\")\n",
    "elif num1 == num3:\n",
    "    print(\"Os números inseridos não são diferentes.\")\n",
    "elif num2 == num3:\n",
    "    print(\"Os números inseridos não são diferentes.\")\n",
    "else:\n",
    "    if num1 < num2:\n",
    "        if num1 < num3:\n",
    "            print(\"O menor número é:\", num1)\n",
    "        else:\n",
    "            print(\"O menor número é:\", num3)\n",
    "    elif num2 < num3:\n",
    "        print(\"O menor número é:\", num2)\n",
    "    else:\n",
    "        print(\"O menor número é:\", num3)"
   ]
  },
  {
   "cell_type": "markdown",
   "metadata": {},
   "source": [
    "####  3° Opção, Código anterior, mas com os operadores lógicos:"
   ]
  },
  {
   "cell_type": "code",
   "execution_count": 3,
   "metadata": {},
   "outputs": [
    {
     "name": "stdout",
     "output_type": "stream",
     "text": [
      "Por favor, insira três números diferentes:\n",
      "O menor número é: 7.0\n"
     ]
    }
   ],
   "source": [
    "print(\"Por favor, insira três números diferentes:\")\n",
    "num1 = float(input(\"Digite o primeiro número: \"))\n",
    "num2 = float(input(\"Digite o segundo número: \"))\n",
    "num3 = float(input(\"Digite o terceiro número: \"))\n",
    "\n",
    "if num1 == num2 or num1 == num3 or num2 == num3:\n",
    "    print(\"Os números inseridos não são diferentes.\")\n",
    "else:\n",
    "    if num1 < num2 and num1 < num3:\n",
    "        print(\"O menor número é:\", num1)\n",
    "    elif num2 < num3:\n",
    "        print(\"O menor número é:\", num2)\n",
    "    else:\n",
    "        print(\"O menor número é:\", num3)\n"
   ]
  },
  {
   "cell_type": "markdown",
   "metadata": {},
   "source": [
    "### EXERCÍCIOSeleção simples"
   ]
  },
  {
   "cell_type": "markdown",
   "metadata": {},
   "source": [
    "#### Exercício 1: Crie um programa que pergunte a idade do usuário. Caso seja maior de idade, deve mostrar uma mensagem informando que pode se inscrever para fazer o teste para tirar a carteira de motorista."
   ]
  },
  {
   "cell_type": "code",
   "execution_count": 6,
   "metadata": {},
   "outputs": [
    {
     "name": "stdout",
     "output_type": "stream",
     "text": [
      "Você tem 17 anos. Falta apenas 1 ano para você poder se inscrever para obter a CNH (Carteira Nacional de Habilitação)!\n",
      "Obrigado por participar\n"
     ]
    }
   ],
   "source": [
    "idade = int(input(\"Qual é a sua idade?\"))\n",
    "\n",
    "if idade >= 18: \n",
    "    print(\"Você já pode realizar a inscrição para o teste da CNH (Carteira Nacional de Habilitação)!\")\n",
    "else:\n",
    "    print(f\"Você tem {idade} anos. Falta apenas {18 - idade} ano para você poder se inscrever para obter a CNH (Carteira Nacional de Habilitação)!\")\n",
    "print(\"Obrigado por participar!\")"
   ]
  },
  {
   "cell_type": "markdown",
   "metadata": {},
   "source": [
    "#### Exercício 2: Crie um programa que pergunte o nome do cliente para ser inserido em um cartão de crédito, com espaço máximo de 20 caracteres. Caso o usuário informe um nome maior, deve mostrar uma mensagem informando que o nome é extenso demais e deve ser abreviado. Dica: para saber o tamanho de uma string, usar a função len. Exemplo: len(nome)."
   ]
  },
  {
   "cell_type": "code",
   "execution_count": 4,
   "metadata": {},
   "outputs": [
    {
     "name": "stdout",
     "output_type": "stream",
     "text": [
      "Sr(a) Pedro de Alcântara João Carlos Leopoldo Salvador Bibiano Francisco Xavier de Paula Leocádio Miguel Gabriel Rafael Gonzaga\n",
      "Seu nome é extenso, iremos abreviar o seu nome para inserir no cartão de crédito!\n",
      "Aguarde!\n",
      "O cadastro do cartão!\n",
      "nome: Pedro de Alcântara J\n",
      "numero: 0212182500005121891\n"
     ]
    }
   ],
   "source": [
    "nome = input(\"Qual é o seu nome?\")\n",
    "\n",
    "if len(nome) > 20:\n",
    "    print(f\"Sr(a) {nome}\")\n",
    "    print(\"Seu nome é extenso, iremos abreviar o seu nome para inserir no cartão de crédito!\")\n",
    "    nome = nome[:20]\n",
    "else:\n",
    "    print(\"Realizando o cadastro!\")\n",
    "\n",
    "print(\"Aguarde!\")\n",
    "print(\"O cadastro do cartão!\")\n",
    "print(f\"nome: {nome}\")\n",
    "print(f\"numero: 0212182500005121891\")\n",
    "\n"
   ]
  },
  {
   "cell_type": "markdown",
   "metadata": {},
   "source": [
    "#### Exercício 3: Crie um programa que solicite um número ao usuário e informe se é par ou ímpar. Dica: para saber se um número é par ou ímpar, calcular o resto da divisão desse número por 2 (operador %). Se o resultado for 0, o número será par; se for 1, será ímpar."
   ]
  },
  {
   "cell_type": "code",
   "execution_count": 6,
   "metadata": {},
   "outputs": [
    {
     "name": "stdout",
     "output_type": "stream",
     "text": [
      "O número 6 é par\n"
     ]
    }
   ],
   "source": [
    "numero = int(input(\"Informe o número\"))\n",
    "\n",
    "if numero % 2 == 0:\n",
    "    print(f\"O número {numero} é par\")\n",
    "else:\n",
    "    print(f\"O número {numero} é impar\")\n"
   ]
  },
  {
   "cell_type": "markdown",
   "metadata": {},
   "source": [
    "#### Exercício 4: Crie um programa que solicite ao usuário o seu salário. Se o valor for inferior a R$ 5.000, calcule um abono de fim de ano de 15%. Caso contrário, o abono será de 10%. Informe ao usuário seu valor de abono de fim de ano."
   ]
  },
  {
   "cell_type": "code",
   "execution_count": 14,
   "metadata": {},
   "outputs": [
    {
     "name": "stdout",
     "output_type": "stream",
     "text": [
      "O valor do abono no fim do ano será de R$ 300.00\n"
     ]
    }
   ],
   "source": [
    "salario = float(input(\"Qual é o seu salário?\"))\n",
    "abono = 0\n",
    "if salario < 5000:\n",
    "    abono = salario * 0.15\n",
    "else:\n",
    "    abono = salario * 0.1\n",
    "print(f\"O valor do abono no fim do ano será de R$ {abono:.2f}\")"
   ]
  },
  {
   "cell_type": "markdown",
   "metadata": {},
   "source": [
    "#### Exercício 5: Crie um programa que pergunte ao usuário em que turno trabalha. Formato da entrada: M – manhã, T – tarde ou N – noite. Mostre a mensagem “Bom dia!”, “Boa tarde!”, “Boa noite!” ou “Valor inválido!”, conforme o caso."
   ]
  },
  {
   "cell_type": "code",
   "execution_count": 20,
   "metadata": {},
   "outputs": [
    {
     "name": "stdout",
     "output_type": "stream",
     "text": [
      "Boa tarde!\n",
      "Bom trabalho!\n"
     ]
    }
   ],
   "source": [
    "opcao = input(\"Qual é o turno do trabalho?\").upper()\n",
    "opcao = opcao[0]\n",
    "\n",
    "if opcao == \"M\":\n",
    "    print(\"Bom dia!\")\n",
    "elif opcao == \"T\":\n",
    "    print(\"Boa tarde!\")\n",
    "elif opcao == \"N\":\n",
    "    print(\"Boa noite!\")\n",
    "else:\n",
    "    print(\"Valor inválido!\")\n",
    "print(\"Bom trabalho!\")\n"
   ]
  },
  {
   "cell_type": "markdown",
   "metadata": {},
   "source": [
    "#### Exercício 6: Crie um programa que solicite ao usuário dois números e a operação que deseja executar entre eles. Mostre o resultado dessa operação no formato: num1 op num2 = resultado."
   ]
  },
  {
   "cell_type": "code",
   "execution_count": 26,
   "metadata": {},
   "outputs": [
    {
     "name": "stdout",
     "output_type": "stream",
     "text": [
      "Operações\n",
      " + | - | *(x) | /(÷) \n",
      "Resultado de 8 x 6 = 48\n"
     ]
    }
   ],
   "source": [
    "num1 = int(input(\"Informe um número\"))\n",
    "num2 = int(input(\"Informe outro número\"))\n",
    "\n",
    "print(\"Operações\")\n",
    "print(\" + | - | *(x) | /(÷) \")\n",
    "\n",
    "op = input(\"Informe a operação:\")\n",
    "\n",
    "if op == \"+\":\n",
    "    print(f\"Resultado de {num1} {op} {num2} = {num1+num2}\")\n",
    "elif op == \"-\":\n",
    "    print(f\"Resultado de {num1} {op} {num2} = {num1-num2}\")\n",
    "elif op == \"*\" or op == \"x\":\n",
    "    print(f\"Resultado de {num1} {op} {num2} = {num1*num2}\")\n",
    "elif op == \"/\" or op == \"÷\":\n",
    "    print(f\"Resultado de {num1} {op} {num2} = {num1/num2}\")\n",
    "else:\n",
    "    print(f\"Operação {op} é inválida!\")\n"
   ]
  },
  {
   "cell_type": "markdown",
   "metadata": {},
   "source": [
    "#### Exercício 7: Crie um programa que pergunte o tamanho de três lados de um triângulo e informe o tipo de triângulo, a saber:\n",
    "\n",
    "##### a- Só será um triângulo quando a soma de dois lados sempre for maior que o terceiro lado.\n",
    "##### b- Equilátero: triângulo com todos os lados iguais.\n",
    "##### c- Isósceles: triângulo com dois lados iguais.\n",
    "##### d- Escaleno: triângulo com todos os lados diferentes."
   ]
  },
  {
   "cell_type": "code",
   "execution_count": 12,
   "metadata": {},
   "outputs": [
    {
     "name": "stdout",
     "output_type": "stream",
     "text": [
      "Triângulo Equilátero!\n"
     ]
    }
   ],
   "source": [
    "lado_01 = int(input(\"Primeiro lado: \"))\n",
    "lado_02 = int(input(\"Segundo lado: \"))\n",
    "lado_03 = int(input(\"Terceiro lado: \"))\n",
    "\n",
    "eh_triangulo = not(lado_01 + lado_02 < lado_03 or lado_02 + lado_03 < lado_01 or lado_03 + lado_01 < lado_02)\n",
    "\n",
    "if eh_triangulo:\n",
    "    if lado_01 == lado_02 and lado_02 == lado_03:\n",
    "        print(\"Triângulo Equilátero!\")\n",
    "    elif lado_01 == lado_02 or lado_01 == lado_03 or lado_02 == lado_03:\n",
    "        print(\"Triângulo Isósceles!\")\n",
    "    elif lado_01 != lado_02 != lado_03:\n",
    "        print(\"Triângulo Escaleno!\")\n",
    "else:\n",
    "    print(\"Não é Triângulo\")\n"
   ]
  },
  {
   "cell_type": "markdown",
   "metadata": {},
   "source": [
    "#### Exercício 8: Crie um programa que solicite ao usuário as quatro notas bimestrais de uma matéria e o número de faltas. Informe se o aluno foi aprovado ou reprovado, bem como o motivo, a saber:\n",
    "\n",
    "#### a- A média anual é 7.\n",
    "#### b- A disciplina possui 40 aulas.\n",
    "#### c- O mínimo exigido é 75% de presença."
   ]
  },
  {
   "cell_type": "code",
   "execution_count": 29,
   "metadata": {},
   "outputs": [
    {
     "name": "stdout",
     "output_type": "stream",
     "text": [
      "Média de notas foi de 8.00\n",
      "Taxa de presença 85%\n",
      "Parabéns!\n",
      "Aluno aprovado na disciplina!\n"
     ]
    }
   ],
   "source": [
    "nota_01 = float(input(\"1° Nota: \"))\n",
    "nota_02 = float(input(\"2° Nota: \"))\n",
    "nota_03 = float(input(\"3° Nota: \"))\n",
    "nota_04 = float(input(\"4° Nota: \"))\n",
    "\n",
    "media = (nota_01 + nota_02 + nota_03 + nota_04)/4\n",
    "\n",
    "numero_falta = int(input(\"Quantidade de faltas do aluno? \"))\n",
    "qtd_aula = 40\n",
    "presenca = 1 - numero_falta / qtd_aula\n",
    "\n",
    "print(f\"Média de notas foi de {media:.2f}\")\n",
    "print(f\"Taxa de presença {presenca*100:.0f}%\")\n",
    "\n",
    "if presenca < 0.75 and media < 7:\n",
    "    print(\"Aluno Reporvado por falta e nota, não atendeu a 75% de presença e nem a média 7!\")\n",
    "elif media < 7:\n",
    "    print(\"Aluno Reprovado por nota, a média de 7 não foi atendida!\")\n",
    "elif presenca < 0.75:\n",
    "    print(\"Aluno Reprovado por falta, a taxa de 75% não foi atendida!\")\n",
    "else:\n",
    "    print(\"Parabéns!\")\n",
    "    print(\"Aluno aprovado na disciplina!\")\n"
   ]
  },
  {
   "cell_type": "markdown",
   "metadata": {},
   "source": [
    "#### Exercício 9: Crie um programa que simule um caixa eletrônico. O programa deverá perguntar ao usuário o valor do saque e depois informar quantas notas de cada valor serão fornecidas, a saber:\n",
    "\n",
    "##### a- Notas disponíveis: 1, 5, 10, 50 e 100 reais.\n",
    "##### b- Valor mínimo de saque: R$ 10,00.\n",
    "##### c- Valor máximo de saque: R$ 600,00."
   ]
  },
  {
   "cell_type": "code",
   "execution_count": 13,
   "metadata": {},
   "outputs": [
    {
     "name": "stdout",
     "output_type": "stream",
     "text": [
      "R$ 597.00\n",
      "Quantidade de R$ 100: 5\n",
      "Quantidade de R$ 50: 1\n",
      "Quantidade de R$ 20: 2\n",
      "Quantidade de R$ 5: 1\n",
      "Quantidade de R$ 2: 1\n",
      "Quantidade de R$ 1: 0\n"
     ]
    }
   ],
   "source": [
    "saque = int(input(\"Qual é o valor do saque!\"))\n",
    "\n",
    "intervalo = 100 <= saque <= 600\n",
    "\n",
    "print(f\"R$ {saque:.2f}\")\n",
    "if intervalo:\n",
    "    if saque >= 100:\n",
    "        res = saque / 100\n",
    "        print(f\"Quantidade de R$ 100: {int(res)}\")\n",
    "        saque = saque - (100*int(res))\n",
    "\n",
    "    if saque >= 50:\n",
    "        res = saque / 50\n",
    "        print(f\"Quantidade de R$ 50: {int(res)}\")\n",
    "        saque = saque - (50 * int(res))\n",
    "    \n",
    "    if saque >= 20:\n",
    "        res = saque / 20\n",
    "        print(f\"Quantidade de R$ 20: {int(res)}\")\n",
    "        saque = saque - (20 * int(res))\n",
    "    \n",
    "\n",
    "    if saque >= 10:\n",
    "        res = saque / 10\n",
    "        print(f\"Quantidade de R$ 10: {int(res)}\")\n",
    "        saque = saque - (10 * int(res))\n",
    "    \n",
    "\n",
    "    if saque >= 5:\n",
    "        res = saque / 5\n",
    "        print(f\"Quantidade de R$ 5: {int(res)}\")\n",
    "        saque = saque - (5 * int(res))\n",
    "    \n",
    "    if saque >= 2:\n",
    "        res = saque / 2\n",
    "        print(f\"Quantidade de R$ 2: {int(res)}\")\n",
    "        saque = saque - (2 * int(res))\n",
    "    \n",
    "    print(f\"Quantidade de R$ 1: {saque}\")\n",
    "else:\n",
    "    print(\"Valor inválido!\")"
   ]
  }
 ],
 "metadata": {
  "kernelspec": {
   "display_name": "Python 3",
   "language": "python",
   "name": "python3"
  },
  "language_info": {
   "codemirror_mode": {
    "name": "ipython",
    "version": 3
   },
   "file_extension": ".py",
   "mimetype": "text/x-python",
   "name": "python",
   "nbconvert_exporter": "python",
   "pygments_lexer": "ipython3",
   "version": "3.10.13"
  }
 },
 "nbformat": 4,
 "nbformat_minor": 2
}
